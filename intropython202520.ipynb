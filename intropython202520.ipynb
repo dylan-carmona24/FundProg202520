{
  "nbformat": 4,
  "nbformat_minor": 0,
  "metadata": {
    "colab": {
      "provenance": [],
      "authorship_tag": "ABX9TyMS7tjFwfDVSi/M42QwstYv",
      "include_colab_link": true
    },
    "kernelspec": {
      "name": "python3",
      "display_name": "Python 3"
    },
    "language_info": {
      "name": "python"
    }
  },
  "cells": [
    {
      "cell_type": "markdown",
      "metadata": {
        "id": "view-in-github",
        "colab_type": "text"
      },
      "source": [
        "<a href=\"https://colab.research.google.com/github/dylan-carmona24/FundProg202520/blob/main/intropython202520.ipynb\" target=\"_parent\"><img src=\"https://colab.research.google.com/assets/colab-badge.svg\" alt=\"Open In Colab\"/></a>"
      ]
    },
    {
      "cell_type": "markdown",
      "source": [
        "# introduccion a python\n",
        "## fundamentos de programacion\n",
        "### universidad pontificia bolivariana - seccional monteria\n",
        "\n",
        "**fecha** 29 de agostob de 2025\n",
        "\n",
        "**presentado por:** _dylan carmona_\n",
        "\n",
        "en la siguente actividad se exploraran los conceptos basicos de python"
      ],
      "metadata": {
        "id": "oeBFJMinZGYP"
      }
    },
    {
      "cell_type": "code",
      "execution_count": 1,
      "metadata": {
        "id": "PCC98x-MYitS"
      },
      "outputs": [],
      "source": [
        "# comentarios\n",
        "\n",
        "# introduccion a python\n",
        "# los comentarios se crean con el # y se utilizan para:\n",
        "# -dar contexto\n",
        "# - explicar codicgo\n",
        "# - ignolar codigo (pruebas)"
      ]
    },
    {
      "cell_type": "code",
      "source": [
        " # print\n",
        "\n",
        " # la funcion print() se utiza para imprimir un mensaje en consola.\n",
        "\n",
        " print(\"hola dylan\")"
      ],
      "metadata": {
        "colab": {
          "base_uri": "https://localhost:8080/"
        },
        "id": "qW9-6OfHbBtv",
        "outputId": "cc7c8d61-a2b6-400b-e38b-e5ed77dbcfe2"
      },
      "execution_count": 2,
      "outputs": [
        {
          "output_type": "stream",
          "name": "stdout",
          "text": [
            "hola dylan\n"
          ]
        }
      ]
    },
    {
      "cell_type": "code",
      "source": [
        "# variables\n",
        "\n",
        "# se utilizan para \"almacenar\" datos en memoria. Es una preferencia a la dirreccion en memoria donde se almacenan los datos\n",
        "\n",
        "name = \"dylan\"\n",
        "age = 14\n",
        "height = 1.65\n",
        "city = \"monteria\"\n",
        "is_student = True\n",
        "\n",
        "print(name, age, height , city, is_student)"
      ],
      "metadata": {
        "colab": {
          "base_uri": "https://localhost:8080/"
        },
        "id": "CnzMIACcd9cg",
        "outputId": "b693e25a-452e-4a5f-c19a-da3cf0a37128"
      },
      "execution_count": 3,
      "outputs": [
        {
          "output_type": "stream",
          "name": "stdout",
          "text": [
            "dylan 14 1.65 monteria True\n"
          ]
        }
      ]
    },
    {
      "cell_type": "code",
      "source": [
        " # calculo\n",
        "\n",
        " a = 5\n",
        " b = 2.3\n",
        " c = a+b\n",
        " d = a*b\n",
        " e = a-b\n",
        " f = a / b\n",
        " g = a % b # modulo de la division entera\n",
        " h = a ** b # potencia: a elevado a la b\n",
        "\n",
        " print(c, d, e, f, g, h)"
      ],
      "metadata": {
        "colab": {
          "base_uri": "https://localhost:8080/"
        },
        "id": "TQ6cpU1gfLU7",
        "outputId": "eb416af3-a8a1-4952-8820-d014a337b29c"
      },
      "execution_count": 4,
      "outputs": [
        {
          "output_type": "stream",
          "name": "stdout",
          "text": [
            "7.3 11.5 2.7 2.173913043478261 0.40000000000000036 40.51641491731905\n"
          ]
        }
      ]
    },
    {
      "cell_type": "code",
      "source": [
        "# cambio de valores\n",
        "\n",
        "a = 5\n",
        "print(a)\n",
        "a = 10\n",
        "print(a)"
      ],
      "metadata": {
        "colab": {
          "base_uri": "https://localhost:8080/"
        },
        "id": "0us9lbFIiQB_",
        "outputId": "b94cb56b-570b-4f99-ddda-5a3fadbc1a44"
      },
      "execution_count": 5,
      "outputs": [
        {
          "output_type": "stream",
          "name": "stdout",
          "text": [
            "5\n",
            "10\n"
          ]
        }
      ]
    },
    {
      "cell_type": "code",
      "source": [
        "# concatenacion\n",
        "\n",
        "# concatenar constite en unir texto\n",
        "\n",
        "firstname = \"dylan\"\n",
        "lastname = \"carmona\"\n",
        "fullname = firstname + \" \" + lastname\n",
        "print(fullname)"
      ],
      "metadata": {
        "colab": {
          "base_uri": "https://localhost:8080/"
        },
        "id": "w5aWEjXIiPvA",
        "outputId": "9a27904f-5f55-4c00-aab8-e3d46ce32c6c"
      },
      "execution_count": 8,
      "outputs": [
        {
          "output_type": "stream",
          "name": "stdout",
          "text": [
            "dylan carmona\n"
          ]
        }
      ]
    },
    {
      "cell_type": "code",
      "source": [
        "time = 0\n",
        "print(time)\n",
        "time += 1\n",
        "print(time)\n",
        "time += 2\n",
        "print(time)\n",
        "time -= 4\n",
        "print (time)\n",
        "time *=5\n",
        "time /= 6\n",
        "print (time)"
      ],
      "metadata": {
        "colab": {
          "base_uri": "https://localhost:8080/"
        },
        "id": "nfGRGQH6j6xA",
        "outputId": "29e6614f-0f1f-4d21-df23-6ce850511c16"
      },
      "execution_count": 10,
      "outputs": [
        {
          "output_type": "stream",
          "name": "stdout",
          "text": [
            "0\n",
            "1\n",
            "3\n",
            "-1\n",
            "-0.8333333333333334\n"
          ]
        }
      ]
    },
    {
      "cell_type": "code",
      "source": [
        "# variable linea de texto\n",
        "son = \"\"\"\n",
        "happy, It might seem crazy what I am 'bout to say\n",
        "Sunshine, she's here you can take a break\n",
        "I'ma hot air balloon that could go to space, huh\n",
        "With the air, like I don't care, baby, by the way, huh\n",
        "Clap along if you feel like a room without a roof\n",
        "(Because I'm happy)\n",
        "Clap along if you feel like happiness is the truth\n",
        "(Because I'm happy)\n",
        "Clap along if you know what happiness is to you\n",
        "(Because I'm happy)\n",
        "Clap along if you feel like that's what you wanna do\n",
        "Here come bad news, talking this and that (talk, yeah)\n",
        "Well, give me all you got and don't hold back (yeah)\n",
        "Well, I should probably warn you, I'll be just fine (yeah)\n",
        "No offense to you, don't waste your time, here's why\n",
        "Clap along if you feel like a room without a roof\n",
        "(Because I'm happy)\n",
        "Clap along if you feel like happiness is the truth\n",
        "(Because I'm happy)\n",
        "Clap along if you know what happiness is to you\n",
        "(Because I'm happy)\n",
        "Clap along if you feel like that's what you wanna do (hey, c'mon, uh)\n",
        "\n",
        "\"\"\"\n",
        "print (son)"
      ],
      "metadata": {
        "colab": {
          "base_uri": "https://localhost:8080/"
        },
        "id": "HmWb8lMYlNo4",
        "outputId": "69ebe8d0-663f-460a-a534-d981a129cfc2"
      },
      "execution_count": 13,
      "outputs": [
        {
          "output_type": "stream",
          "name": "stdout",
          "text": [
            "\n",
            "happy, It might seem crazy what I am 'bout to say\n",
            "Sunshine, she's here you can take a break\n",
            "I'ma hot air balloon that could go to space, huh\n",
            "With the air, like I don't care, baby, by the way, huh\n",
            "Clap along if you feel like a room without a roof\n",
            "(Because I'm happy)\n",
            "Clap along if you feel like happiness is the truth\n",
            "(Because I'm happy)\n",
            "Clap along if you know what happiness is to you\n",
            "(Because I'm happy)\n",
            "Clap along if you feel like that's what you wanna do\n",
            "Here come bad news, talking this and that (talk, yeah)\n",
            "Well, give me all you got and don't hold back (yeah)\n",
            "Well, I should probably warn you, I'll be just fine (yeah)\n",
            "No offense to you, don't waste your time, here's why\n",
            "Clap along if you feel like a room without a roof\n",
            "(Because I'm happy)\n",
            "Clap along if you feel like happiness is the truth\n",
            "(Because I'm happy)\n",
            "Clap along if you know what happiness is to you\n",
            "(Because I'm happy)\n",
            "Clap along if you feel like that's what you wanna do (hey, c'mon, uh)\n",
            "\n",
            "\n"
          ]
        }
      ]
    },
    {
      "cell_type": "code",
      "source": [
        "# inputs\n",
        "\n",
        "# se utilizan para gestionar entradas de usuarios\n",
        "\n",
        "name = input( \"hola. ¿cual es tu nombre? \")\n",
        "print(\"hola\", name, \"mucho gusto\")"
      ],
      "metadata": {
        "colab": {
          "base_uri": "https://localhost:8080/"
        },
        "id": "yRTq-7FHmmI5",
        "outputId": "4dce9fe7-c1b1-4a40-8e49-fb6f0cabc6c1"
      },
      "execution_count": 19,
      "outputs": [
        {
          "output_type": "stream",
          "name": "stdout",
          "text": [
            "hola. ¿cual es tu nombre? dylan\n",
            "hola dylan mucho gusto\n"
          ]
        }
      ]
    },
    {
      "cell_type": "code",
      "source": [
        "# calcular_tiempo\n",
        "# programa para calcular el tiempo de caida libre\n",
        "\n",
        "G = 9.81\n",
        "# h = 10 # t = 1.4278\n",
        "# h = 20 # t = 2.019\n",
        "# h = 30 # t = 2.4730\n",
        "h = float(input(\"ingrese la altura (m):5 ))\n",
        "t = (2*h/G)"
      ],
      "metadata": {
        "colab": {
          "base_uri": "https://localhost:8080/",
          "height": 106
        },
        "id": "DUCanioUoRUx",
        "outputId": "ca2d463e-eda0-4bcb-c9e3-4511333feb21"
      },
      "execution_count": 31,
      "outputs": [
        {
          "output_type": "error",
          "ename": "SyntaxError",
          "evalue": "unterminated string literal (detected at line 8) (ipython-input-1906234450.py, line 8)",
          "traceback": [
            "\u001b[0;36m  File \u001b[0;32m\"/tmp/ipython-input-1906234450.py\"\u001b[0;36m, line \u001b[0;32m8\u001b[0m\n\u001b[0;31m    h = float(input(\"ingrese la altura (m):5 ))\u001b[0m\n\u001b[0m                    ^\u001b[0m\n\u001b[0;31mSyntaxError\u001b[0m\u001b[0;31m:\u001b[0m unterminated string literal (detected at line 8)\n"
          ]
        }
      ]
    },
    {
      "cell_type": "code",
      "source": [
        " # calcular_promedio de credidos\n",
        "\n",
        " # programa para calcular y mostrar el numero de numero de creditos de 3 estudiantes y el promedio de creditos\n",
        "\n",
        " # estudiante 1: (\"ingrese el numero de creditos del estudiante 1: \")\n",
        " creditos_1 = 5\n",
        " # estudiante 2: (\"ingrese el numero de creditos del estudiante 2: \")\n",
        " creditos_2 = 4\n",
        " # estudiante 3: (\"ingrese el numero de creditos del estudiante 3: \")\n",
        "creditos_3 = 7\n",
        "\n",
        "print (\" creditos del estudiante 1, 2 , 3\")\n",
        "promedio = (creditos_1 + creditos_2 + creditos_3) / 3\n",
        "print(\"el promedio de creditos es: \", promedio)"
      ],
      "metadata": {
        "colab": {
          "base_uri": "https://localhost:8080/"
        },
        "id": "_8IqRdyxqZsJ",
        "outputId": "a3be6c9a-8bb7-480a-da22-4bc1807b2b63"
      },
      "execution_count": 29,
      "outputs": [
        {
          "output_type": "stream",
          "name": "stdout",
          "text": [
            " creditos del estudiante 1, 2 , 3\n",
            "el promedio de creditos es:  5.333333333333333\n"
          ]
        }
      ]
    }
  ]
}